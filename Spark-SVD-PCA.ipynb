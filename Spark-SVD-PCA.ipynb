{
 "cells": [
  {
   "cell_type": "markdown",
   "metadata": {},
   "source": [
    "# This notebook illustrates how to compute SVD and PCA using PYSPARK"
   ]
  },
  {
   "cell_type": "markdown",
   "metadata": {},
   "source": [
    "Install necessary packages and import them as shown below: "
   ]
  },
  {
   "cell_type": "code",
   "execution_count": 1,
   "metadata": {
    "collapsed": true
   },
   "outputs": [],
   "source": [
    "import findspark\n",
    "findspark.init()"
   ]
  },
  {
   "cell_type": "code",
   "execution_count": 2,
   "metadata": {
    "collapsed": true
   },
   "outputs": [],
   "source": [
    "import numpy as np \n",
    "\n",
    "from pyspark import SparkContext\n",
    "from pyspark.mllib.linalg import Vectors\n",
    "from pyspark.mllib.linalg.distributed import RowMatrix"
   ]
  },
  {
   "cell_type": "markdown",
   "metadata": {},
   "source": [
    "## Load the data in the txt file and store it in the distributed form using RowMatrix"
   ]
  },
  {
   "cell_type": "code",
   "execution_count": 3,
   "metadata": {},
   "outputs": [
    {
     "name": "stdout",
     "output_type": "stream",
     "text": [
      "finish loading the data set rows with size\n",
      "(2000, 2000)\n",
      "\n",
      "\n",
      "Start the context\n",
      "finish distributed the data by RowMatrix\n"
     ]
    }
   ],
   "source": [
    "rows = np.loadtxt('testmatrix.txt', dtype=float)\n",
    "print('finish loading the data set rows with size')\n",
    "print(rows.shape)\n",
    "print('\\n')\n",
    "\n",
    "sc = SparkContext(appName=\"PythonSVDExample\")\n",
    "print('Start the context')\n",
    "rows = sc.parallelize(rows)\n",
    "mat = RowMatrix(rows)\n",
    "print('finish distributed the data by RowMatrix')"
   ]
  },
  {
   "cell_type": "markdown",
   "metadata": {},
   "source": [
    "## Compute SVD"
   ]
  },
  {
   "cell_type": "code",
   "execution_count": 4,
   "metadata": {},
   "outputs": [
    {
     "name": "stdout",
     "output_type": "stream",
     "text": [
      "Start computing SVD::\n",
      "\n",
      "Finish computing U factor:\n",
      "Singular values are: [5753.17496197,5677.76852362,5606.48057256,5577.44470326,5539.8051474]\n",
      "Finish computing V factor\n",
      "\n"
     ]
    }
   ],
   "source": [
    "print(\"Start computing SVD::\\n\")\n",
    "\n",
    "svd = mat.computeSVD(5, computeU=True)\n",
    "U = svd.U       # The U factor is a RowMatrix.\n",
    "s = svd.s       # The singular values are stored in a local dense vector.\n",
    "V = svd.V       # The V factor is a local dense matrix.\n",
    "# $example off$\n",
    "collected = U.rows.collect()\n",
    "print(\"Finish computing U factor:\")\n",
    "#for vector in collected:\n",
    "#    print(vector)\n",
    "\n",
    "print(\"Singular values are: %s\" % s)\n",
    "print(\"Finish computing V factor\\n\")"
   ]
  },
  {
   "cell_type": "markdown",
   "metadata": {},
   "source": [
    "## Compute PCA"
   ]
  },
  {
   "cell_type": "code",
   "execution_count": 5,
   "metadata": {},
   "outputs": [
    {
     "name": "stdout",
     "output_type": "stream",
     "text": [
      "Start computing PCA::\n",
      "\n",
      "\n",
      "\n",
      "Finish Projected Row Matrix of principal component:\n"
     ]
    }
   ],
   "source": [
    "print(\"Start computing PCA::\\n\")\n",
    "pc = mat.computePrincipalComponents(4)\n",
    "projected = mat.multiply(pc)\n",
    "\n",
    "collected1 = projected.rows.collect()\n",
    "print(\"\\n\\nFinish Projected Row Matrix of principal component:\")\n",
    "#for vector in collected1:\n",
    "#    print(vector)"
   ]
  },
  {
   "cell_type": "code",
   "execution_count": 6,
   "metadata": {},
   "outputs": [],
   "source": [
    "sc.stop()"
   ]
  }
 ],
 "metadata": {
  "kernelspec": {
   "display_name": "Python 3",
   "language": "python",
   "name": "python3"
  },
  "language_info": {
   "codemirror_mode": {
    "name": "ipython",
    "version": 3
   },
   "file_extension": ".py",
   "mimetype": "text/x-python",
   "name": "python",
   "nbconvert_exporter": "python",
   "pygments_lexer": "ipython3",
   "version": "3.6.7"
  }
 },
 "nbformat": 4,
 "nbformat_minor": 2
}
