{
 "cells": [
  {
   "cell_type": "markdown",
   "metadata": {},
   "source": [
    "# This notebook illustrates how to compute SVD and PCA using PYSPARK"
   ]
  },
  {
   "cell_type": "markdown",
   "metadata": {},
   "source": [
    "Install necessary packages and import them as shown below: "
   ]
  },
  {
   "cell_type": "code",
   "execution_count": 1,
   "metadata": {
    "collapsed": true
   },
   "outputs": [],
   "source": [
    "import findspark\n",
    "findspark.init()"
   ]
  },
  {
   "cell_type": "code",
   "execution_count": 2,
   "metadata": {
    "collapsed": true
   },
   "outputs": [],
   "source": [
    "import numpy as np \n",
    "\n",
    "from pyspark import SparkContext\n",
    "from pyspark.mllib.linalg import Vectors\n",
    "from pyspark.mllib.linalg.distributed import RowMatrix"
   ]
  },
  {
   "cell_type": "markdown",
   "metadata": {},
   "source": [
    "## Load the data in the txt file and store it in the distributed form using RowMatrix"
   ]
  },
  {
   "cell_type": "code",
   "execution_count": 3,
   "metadata": {
    "collapsed": false
   },
   "outputs": [
    {
     "name": "stdout",
     "output_type": "stream",
     "text": [
      "finish loading the data set rows with size\n",
      "(10, 10)\n",
      "\n",
      "\n",
      "Start the context\n",
      "finish distributed the data by RowMatrix\n"
     ]
    }
   ],
   "source": [
    "rows = np.loadtxt('testmatrix.txt', dtype=float)\n",
    "print('finish loading the data set rows with size')\n",
    "print(rows.shape)\n",
    "print('\\n')\n",
    "\n",
    "sc = SparkContext(appName=\"PythonSVDExample\")\n",
    "print('Start the context')\n",
    "rows = sc.parallelize(rows)\n",
    "mat = RowMatrix(rows)\n",
    "print('finish distributed the data by RowMatrix')"
   ]
  },
  {
   "cell_type": "markdown",
   "metadata": {},
   "source": [
    "## Compute SVD"
   ]
  },
  {
   "cell_type": "code",
   "execution_count": 4,
   "metadata": {
    "collapsed": false
   },
   "outputs": [
    {
     "name": "stdout",
     "output_type": "stream",
     "text": [
      "Start computing SVD::\n",
      "\n",
      "Finish computing U factor:\n",
      "Singular values are: [11.0704477758,8.37264168736,5.31396563411,3.52897317326,0.735628240984]\n",
      "Finish computing V factor\n",
      "\n"
     ]
    }
   ],
   "source": [
    "print(\"Start computing SVD::\\n\")\n",
    "\n",
    "svd = mat.computeSVD(5, computeU=True)\n",
    "U = svd.U       # The U factor is a RowMatrix.\n",
    "s = svd.s       # The singular values are stored in a local dense vector.\n",
    "V = svd.V       # The V factor is a local dense matrix.\n",
    "# $example off$\n",
    "collected = U.rows.collect()\n",
    "print(\"Finish computing U factor:\")\n",
    "#for vector in collected:\n",
    "#    print(vector)\n",
    "\n",
    "print(\"Singular values are: %s\" % s)\n",
    "print(\"Finish computing V factor\\n\")"
   ]
  },
  {
   "cell_type": "markdown",
   "metadata": {},
   "source": [
    "## Compute PCA"
   ]
  },
  {
   "cell_type": "code",
   "execution_count": 5,
   "metadata": {
    "collapsed": false
   },
   "outputs": [
    {
     "name": "stdout",
     "output_type": "stream",
     "text": [
      "Start computing PCA::\n",
      "\n",
      "\n",
      "\n",
      "Finish Projected Row Matrix of principal component:\n",
      "[-6.75127768515,3.44675019906,-0.938969881937,0.675878752993]\n",
      "[0.0,0.0,0.0,0.0]\n",
      "[1.50238362474,-0.769268315778,-0.176475125497,0.921105397875]\n",
      "[2.73928506663,-5.00219025081,-2.14921902001,0.810028880651]\n",
      "[3.66105284191,1.36657697234,2.51733382326,-1.10657138917]\n",
      "[-5.55196289961,-2.76466774952,-0.47753747748,-2.05850482731]\n",
      "[-2.04698940475,0.555264405988,-1.57171251428,1.2947563867]\n",
      "[3.71990287804,4.72561872628,-2.15011973248,-0.303519716182]\n",
      "[-0.529464576834,-0.60280632099,0.949039218102,0.565780143946]\n",
      "[-2.15551180957,-0.30803511162,2.85391649935,1.71639561656]\n"
     ]
    }
   ],
   "source": [
    "print(\"Start computing PCA::\\n\")\n",
    "pc = mat.computePrincipalComponents(4)\n",
    "projected = mat.multiply(pc)\n",
    "\n",
    "collected1 = projected.rows.collect()\n",
    "print(\"\\n\\nFinish Projected Row Matrix of principal component:\")\n",
    "#for vector in collected1:\n",
    "#    print(vector)"
   ]
  },
  {
   "cell_type": "code",
   "execution_count": 7,
   "metadata": {
    "collapsed": false
   },
   "outputs": [],
   "source": [
    "sc.stop()"
   ]
  }
 ],
 "metadata": {
  "kernelspec": {
   "display_name": "Python 3",
   "language": "python",
   "name": "python3"
  },
  "language_info": {
   "codemirror_mode": {
    "name": "ipython",
    "version": 3
   },
   "file_extension": ".py",
   "mimetype": "text/x-python",
   "name": "python",
   "nbconvert_exporter": "python",
   "pygments_lexer": "ipython3",
   "version": "3.6.0"
  }
 },
 "nbformat": 4,
 "nbformat_minor": 2
}
